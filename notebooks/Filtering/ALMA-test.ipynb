{
 "cells": [
  {
   "cell_type": "markdown",
   "metadata": {},
   "source": [
    "### ALMA images\n",
    "\n",
    "Filtering using WT filtering"
   ]
  },
  {
   "cell_type": "code",
   "execution_count": 1,
   "metadata": {},
   "outputs": [
    {
     "name": "stderr",
     "output_type": "stream",
     "text": [
      "┌ Info: Precompiling ImagingAstro [top-level]\n",
      "└ @ Base loading.jl:1189\n"
     ]
    }
   ],
   "source": [
    "using Images , Distributions\n",
    "using Printf\n",
    "using PyPlot\n",
    "\n",
    "## directory\n",
    "rootdir = \"/home/stephane/Science/RadioGalaxy/ImagingAstro\"\n",
    "wdir    = \"$rootdir/products\"\n",
    "plotdir = \"$rootdir/products/test\"\n",
    "\n",
    "push!(LOAD_PATH,\"$rootdir/master/src\")\n",
    "using ImagingAstro\n",
    "\n",
    "cd(wdir)"
   ]
  },
  {
   "cell_type": "code",
   "execution_count": 8,
   "metadata": {},
   "outputs": [
    {
     "name": "stdout",
     "output_type": "stream",
     "text": [
      "Uniform{Float64}(a=1.9431419895354907e-6, b=0.999999662115687)\n",
      "##WT--A Trous--Plane: 1\n",
      "##WT--A Trous--Plane: 2\n",
      "##WT--A Trous--Plane: 3\n",
      "##WT--A Trous--Plane: 4\n",
      "##WT--A Trous--Plane: 5\n",
      "##WT--A Trous--Plane: 6\n",
      "##WT--A Trous--Plane: 7\n",
      "##WT--A Trous--Plane: 8\n",
      "##WT--A Trous--LSP (9)\n",
      "##WT--Thresholding the WT\n",
      "##WT--Simulating the noise in the WT.\n"
     ]
    },
    {
     "data": {
      "image/png": "[encoded data removed]",
      "text/plain": [
       "Figure(PyObject <Figure size 1200x400 with 1 Axes>)"
      ]
     },
     "metadata": {},
     "output_type": "display_data"
    },
    {
     "name": "stdout",
     "output_type": "stream",
     "text": [
      "(1024, 1024)\n"
     ]
    },
    {
     "data": {
      "text/plain": [
       "PyObject <matplotlib.image.AxesImage object at 0x7fbc18490dd8>"
      ]
     },
     "execution_count": 8,
     "metadata": {},
     "output_type": "execute_result"
    }
   ],
   "source": [
    "a = rand(1024,1024)\n",
    "d = fit_mle(Uniform, a)\n",
    "println(d)\n",
    "ker = [1/16 , 1/4 , 3/8 , 1/4 ,  1/16]\n",
    "wt = atrous(a,8)\n",
    "wtf = thresholdingWav(wt, d , 4)\n",
    "\n",
    "\n",
    "fig = figure(figsize=(12,4.0))\n",
    "\n",
    "ax1 = subplot(121)\n",
    "grid(\"on\")\n",
    "imshow(addWav(wtf,1,2))"
   ]
  }
 ],
 "metadata": {
  "kernelspec": {
   "display_name": "Julia 1.0.1",
   "language": "julia",
   "name": "julia-1.0"
  },
  "language_info": {
   "file_extension": ".jl",
   "mimetype": "application/julia",
   "name": "julia",
   "version": "1.0.1"
  }
 },
 "nbformat": 4,
 "nbformat_minor": 2
}
